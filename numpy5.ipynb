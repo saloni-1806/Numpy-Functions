{
 "cells": [
  {
   "cell_type": "markdown",
   "id": "e36118f4",
   "metadata": {},
   "source": [
    "# Functions of Numpy Part-5"
   ]
  },
  {
   "cell_type": "code",
   "execution_count": 8,
   "id": "0cdaf4f6",
   "metadata": {},
   "outputs": [],
   "source": [
    "import numpy as np\n",
    "import math\n",
    "import numpy.matlib"
   ]
  },
  {
   "cell_type": "code",
   "execution_count": 2,
   "id": "2bbd9cfe",
   "metadata": {},
   "outputs": [
    {
     "name": "stdout",
     "output_type": "stream",
     "text": [
      "Input array: [0.23, 0.09, 1.2, 1.24, 9.99]\n",
      "Output array: [ 0.  0.  1.  1. 10.]\n"
     ]
    }
   ],
   "source": [
    "# rint function\n",
    "a1 = [0.23, 0.09, 1.2, 1.24, 9.99]  \n",
    "print(\"Input array:\",a1)  \n",
    "a2= np.rint(a1)  \n",
    "print(\"Output array:\",a2)  "
   ]
  },
  {
   "cell_type": "code",
   "execution_count": 5,
   "id": "664ff7dd",
   "metadata": {},
   "outputs": [
    {
     "name": "stdout",
     "output_type": "stream",
     "text": [
      "Input Array: [0.         0.78539816 4.71238898 0.52359878]\n",
      "tanh Array: [0.         0.6557942  0.99983861 0.48047278]\n"
     ]
    }
   ],
   "source": [
    "# tanh function\n",
    "b1 = np.array([0, math.pi/4, 3*math.pi/2, math.pi/6])  \n",
    "print(\"Input Array:\",b1)  \n",
    "print(\"tanh Array:\",end=\" \")  \n",
    "b2= np.tanh(b1)  \n",
    "print(b2)  "
   ]
  },
  {
   "cell_type": "code",
   "execution_count": 6,
   "id": "6f6b2574",
   "metadata": {},
   "outputs": [
    {
     "name": "stdout",
     "output_type": "stream",
     "text": [
      "Input array: [0.23, 0.09, 1.2, 1.24, 9.99]\n",
      "Output array: [0. 0. 1. 1. 9.]\n"
     ]
    }
   ],
   "source": [
    "# trunc function\n",
    "c1 = [0.23, 0.09, 1.2, 1.24, 9.99]  \n",
    "print(\"Input array:\",c1)  \n",
    "c2 = np.trunc(c1)  \n",
    "print(\"Output array:\",c2)  "
   ]
  },
  {
   "cell_type": "code",
   "execution_count": 11,
   "id": "812229dd",
   "metadata": {},
   "outputs": [
    {
     "name": "stdout",
     "output_type": "stream",
     "text": [
      "[[1. 0. 0.]\n",
      " [0. 1. 0.]\n",
      " [0. 0. 1.]]\n"
     ]
    }
   ],
   "source": [
    "# eye function\n",
    "\n",
    "print(numpy.matlib.eye(n=3,k=0,dtype=float))  "
   ]
  },
  {
   "cell_type": "code",
   "execution_count": 12,
   "id": "0900eecf",
   "metadata": {},
   "outputs": [
    {
     "name": "stdout",
     "output_type": "stream",
     "text": [
      "[[1. 0. 0. 0.]\n",
      " [0. 1. 0. 0.]\n",
      " [0. 0. 1. 0.]\n",
      " [0. 0. 0. 1.]]\n"
     ]
    }
   ],
   "source": [
    "# identity function\n",
    "\n",
    "print(numpy.matlib.identity(4))    "
   ]
  },
  {
   "cell_type": "code",
   "execution_count": 13,
   "id": "d9352708",
   "metadata": {},
   "outputs": [
    {
     "name": "stdout",
     "output_type": "stream",
     "text": [
      "[[1. 1. 1.]\n",
      " [1. 1. 1.]\n",
      " [1. 1. 1.]]\n"
     ]
    }
   ],
   "source": [
    "# ones function\n",
    "\n",
    "print(numpy.matlib.ones((3,3)))    "
   ]
  },
  {
   "cell_type": "code",
   "execution_count": 14,
   "id": "62f04927",
   "metadata": {},
   "outputs": [
    {
     "name": "stdout",
     "output_type": "stream",
     "text": [
      "[[0. 0. 0.]\n",
      " [0. 0. 0.]\n",
      " [0. 0. 0.]]\n"
     ]
    }
   ],
   "source": [
    "# zeros function\n",
    "\n",
    "print(numpy.matlib.zeros((3,3)))"
   ]
  },
  {
   "cell_type": "code",
   "execution_count": 17,
   "id": "d9174212",
   "metadata": {},
   "outputs": [
    {
     "name": "stdout",
     "output_type": "stream",
     "text": [
      "<class 'bytes'>\n",
      "[b'h' b'e' b'l' b'l' b'o' b' ' b'w' b'o' b'r' b'l' b'd']\n",
      "<class 'numpy.ndarray'>\n"
     ]
    }
   ],
   "source": [
    "# frombuffer function\n",
    "\n",
    "d1 = b'hello world'  \n",
    "print(type(d1))  \n",
    "d2= np.frombuffer(d1, dtype = \"S1\")  \n",
    "print(d2)  \n",
    "print(type(d2))  "
   ]
  },
  {
   "cell_type": "code",
   "execution_count": 20,
   "id": "d196d9d5",
   "metadata": {},
   "outputs": [
    {
     "name": "stdout",
     "output_type": "stream",
     "text": [
      "[0. 2. 4. 6.]\n",
      "<class 'numpy.ndarray'>\n"
     ]
    }
   ],
   "source": [
    "# fromiter function\n",
    "\n",
    "e1 = [0,2,4,6]  \n",
    "e2 = iter(list)  \n",
    "e3 = np.fromiter(e2, dtype = float)  \n",
    "print(e3)  \n",
    "print(type(e3))  "
   ]
  },
  {
   "cell_type": "code",
   "execution_count": 21,
   "id": "2d133f2d",
   "metadata": {},
   "outputs": [
    {
     "name": "stdout",
     "output_type": "stream",
     "text": [
      "The array over the given range is  [10.  12.5 15.  17.5 20. ]\n"
     ]
    }
   ],
   "source": [
    "# linespace function\n",
    "\n",
    "f1 = np.linspace(10, 20, 5)  \n",
    "print(\"The array over the given range is \",f1)  "
   ]
  },
  {
   "cell_type": "code",
   "execution_count": 22,
   "id": "350646df",
   "metadata": {},
   "outputs": [
    {
     "name": "stdout",
     "output_type": "stream",
     "text": [
      "The array over the given range is  [1.00000000e+10 3.16227766e+12 1.00000000e+15 3.16227766e+17\n",
      " 1.00000000e+20]\n"
     ]
    }
   ],
   "source": [
    "# logspace function\n",
    "\n",
    "g1 = np.logspace(10, 20, num = 5, endpoint = True)  \n",
    "print(\"The array over the given range is \",g1)  "
   ]
  }
 ],
 "metadata": {
  "kernelspec": {
   "display_name": "Python 3 (ipykernel)",
   "language": "python",
   "name": "python3"
  },
  "language_info": {
   "codemirror_mode": {
    "name": "ipython",
    "version": 3
   },
   "file_extension": ".py",
   "mimetype": "text/x-python",
   "name": "python",
   "nbconvert_exporter": "python",
   "pygments_lexer": "ipython3",
   "version": "3.11.5"
  }
 },
 "nbformat": 4,
 "nbformat_minor": 5
}
