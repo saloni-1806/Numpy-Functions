{
 "cells": [
  {
   "cell_type": "markdown",
   "id": "1bb8195c",
   "metadata": {},
   "source": [
    "# Functions of Numpy Part-2"
   ]
  },
  {
   "cell_type": "code",
   "execution_count": 1,
   "id": "5b8faf96",
   "metadata": {},
   "outputs": [],
   "source": [
    "import numpy as np"
   ]
  },
  {
   "cell_type": "code",
   "execution_count": 3,
   "id": "d620ee86",
   "metadata": {},
   "outputs": [
    {
     "name": "stdout",
     "output_type": "stream",
     "text": [
      "[ 0  1  2  3  4  5  6  7  8  9 10 11 12 13 14 15 16 17] \n",
      "\n",
      "[[ 0  1  2  3  4  5]\n",
      " [ 6  7  8  9 10 11]\n",
      " [12 13 14 15 16 17]] \n",
      "\n",
      "[[ 0  3  6  9 12 15]\n",
      " [ 1  4  7 10 13 16]\n",
      " [ 2  5  8 11 14 17]]\n"
     ]
    }
   ],
   "source": [
    "# reshape function\n",
    "a=np.arange(18)\n",
    "print(a,\"\\n\")\n",
    "a1=np.reshape(a,(3,6))\n",
    "print(a1,\"\\n\")\n",
    "a3=np.reshape(a,(3,6),order='F')\n",
    "print(a3)"
   ]
  },
  {
   "cell_type": "code",
   "execution_count": 9,
   "id": "25d94611",
   "metadata": {},
   "outputs": [
    {
     "name": "stdout",
     "output_type": "stream",
     "text": [
      "[[ 0  4  8]\n",
      " [ 1  5  9]\n",
      " [ 2  6 10]\n",
      " [ 3  7 11]] \n",
      "\n",
      "[[ 0  4  8]\n",
      " [ 1  5  9]\n",
      " [ 2  6 10]\n",
      " [ 3  7 11]] \n",
      "\n",
      "[[ 0  1  2]\n",
      " [ 3  4  5]\n",
      " [ 6  7  8]\n",
      " [ 9 10 11]]\n"
     ]
    }
   ],
   "source": [
    "b1=np.arange(12)\n",
    "b2=np.reshape(b1,(4,3),order='F')  \n",
    "print(b2,\"\\n\") \n",
    "#b3=np.reshape(np.ravel(b1, order='F'), (4, 3), order='F')\n",
    "#print(b3,\"\\n\")\n",
    "b4=np.reshape(b1, (4,-1))  \n",
    "print(b4)"
   ]
  },
  {
   "cell_type": "code",
   "execution_count": 8,
   "id": "f4acd24a",
   "metadata": {},
   "outputs": [
    {
     "name": "stdout",
     "output_type": "stream",
     "text": [
      "[ 0  1  2  3  4  5  6  7  8  9 10 11] \n",
      "\n",
      "sum is : 66\n",
      "sum is 66.0\n"
     ]
    }
   ],
   "source": [
    "# sum\n",
    "c1=np.arange(12)\n",
    "print(c1,\"\\n\")\n",
    "c2=np.sum(c1)\n",
    "print(\"sum is :\",c2)\n",
    "c3=np.sum(c1,dtype=np.float32)\n",
    "print(\"sum is\",c3)"
   ]
  },
  {
   "cell_type": "code",
   "execution_count": 10,
   "id": "27a7fc7d",
   "metadata": {},
   "outputs": [
    {
     "name": "stdout",
     "output_type": "stream",
     "text": [
      "[[ 0  1  2  3]\n",
      " [ 4  5  6  7]\n",
      " [ 8  9 10 11]] \n",
      "\n",
      "sum row wise [ 6 22 38]\n",
      "sum column wise [12 15 18 21]\n",
      "10\n"
     ]
    }
   ],
   "source": [
    "d1=np.arange(12).reshape(3,4)\n",
    "print(d1,\"\\n\")\n",
    "d2=np.sum(d1,axis=1)\n",
    "print(\"sum row wise\",d2)\n",
    "d3=np.sum(d1,axis=0)\n",
    "print(\"sum column wise\", d3)\n",
    "d4=np.sum(10)\n",
    "print(d4)"
   ]
  },
  {
   "cell_type": "code",
   "execution_count": 8,
   "id": "056faf56",
   "metadata": {},
   "outputs": [
    {
     "name": "stdout",
     "output_type": "stream",
     "text": [
      "[[0.74156091 0.64310994]\n",
      " [0.02433887 0.57278331]\n",
      " [0.33277662 0.26581522]] \n",
      "\n",
      "[[-0.63536845 -0.40296082]\n",
      " [-0.35996897 -0.43288255]] \n",
      "\n",
      "[8 0 9 4 9] \n",
      "\n",
      "[[1 3]\n",
      " [3 2]\n",
      " [2 2]] \n",
      "\n"
     ]
    },
    {
     "name": "stderr",
     "output_type": "stream",
     "text": [
      "C:\\Users\\1648s\\AppData\\Local\\Temp\\ipykernel_968\\856442658.py:8: DeprecationWarning: This function is deprecated. Please call randint(1, 5 + 1) instead\n",
      "  e4=np.random.random_integers(5, size=(3,2))\n"
     ]
    }
   ],
   "source": [
    "# random function\n",
    "e1=np.random.rand(3,2)  \n",
    "print(e1,\"\\n\")\n",
    "e2=np.random.randn(2,2)  \n",
    "print(e2,\"\\n\")\n",
    "e3=np.random.randint(10,size=5)  \n",
    "print(e3,\"\\n\")\n",
    "e4=np.random.random_integers(5, size=(3,2))  \n",
    "print(e4,\"\\n\")"
   ]
  },
  {
   "cell_type": "code",
   "execution_count": 4,
   "id": "eb502ee0",
   "metadata": {},
   "outputs": [
    {
     "name": "stdout",
     "output_type": "stream",
     "text": [
      "[[0. 0.]\n",
      " [0. 0.]\n",
      " [0. 0.]]\n"
     ]
    }
   ],
   "source": [
    "# zeros function\n",
    "f1=np.zeros((3,2),dtype=float)\n",
    "print(f1)"
   ]
  },
  {
   "cell_type": "code",
   "execution_count": 4,
   "id": "f128fedd",
   "metadata": {},
   "outputs": [
    {
     "name": "stdout",
     "output_type": "stream",
     "text": [
      "[ 0  1  2  3 20 25 30 35 40 45]\n"
     ]
    }
   ],
   "source": [
    "# where function\n",
    "g1=np.arange(10)  \n",
    "g2=np.where(g1<4,g1,5*g1)  \n",
    "print(g2) "
   ]
  },
  {
   "cell_type": "code",
   "execution_count": null,
   "id": "64be1f36",
   "metadata": {},
   "outputs": [],
   "source": []
  }
 ],
 "metadata": {
  "kernelspec": {
   "display_name": "Python 3 (ipykernel)",
   "language": "python",
   "name": "python3"
  },
  "language_info": {
   "codemirror_mode": {
    "name": "ipython",
    "version": 3
   },
   "file_extension": ".py",
   "mimetype": "text/x-python",
   "name": "python",
   "nbconvert_exporter": "python",
   "pygments_lexer": "ipython3",
   "version": "3.11.5"
  }
 },
 "nbformat": 4,
 "nbformat_minor": 5
}
