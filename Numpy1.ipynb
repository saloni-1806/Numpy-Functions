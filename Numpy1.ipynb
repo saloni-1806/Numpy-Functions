{
 "cells": [
  {
   "cell_type": "markdown",
   "id": "8b585a51",
   "metadata": {},
   "source": [
    "# Functions of Numpy Part-1"
   ]
  },
  {
   "cell_type": "markdown",
   "id": "cb09c536",
   "metadata": {},
   "source": [
    "import numpy as np"
   ]
  },
  {
   "cell_type": "code",
   "execution_count": 31,
   "id": "56576aa5",
   "metadata": {},
   "outputs": [
    {
     "name": "stdout",
     "output_type": "stream",
     "text": [
      "This id 1D Array:\n",
      "[[ 2  5 10  8]] \n",
      "\n",
      "This id 2D Array:\n",
      "[[1 5 9 5]\n",
      " [2 9 7 1]] \n",
      "\n",
      "This id 3D Array:\n",
      "[[[1.1 5.7 7.  9. ]\n",
      "  [2.  7.1 8.  9. ]\n",
      "  [3.  4.  9.  8. ]]]\n"
     ]
    }
   ],
   "source": [
    "#print array\n",
    "x = np.array([[2,5,10,8]])\n",
    "y = np.array([[1,5,9,5],[2,9,7,1]])\n",
    "z = np.array([[[1.1,5.7,7,9],[2,7.1,8,9],[3,4,9.0,8]]])\n",
    "print(\"This id 1D Array:\")\n",
    "print(x,\"\\n\")\n",
    "print(\"This id 2D Array:\")\n",
    "print(y,\"\\n\")\n",
    "print(\"This id 3D Array:\")\n",
    "print(z)"
   ]
  },
  {
   "cell_type": "code",
   "execution_count": 32,
   "id": "76264867",
   "metadata": {},
   "outputs": [
    {
     "name": "stdout",
     "output_type": "stream",
     "text": [
      "No. of elements in the array x,y,z respectively:\n",
      "4\n",
      "8\n",
      "12\n"
     ]
    }
   ],
   "source": [
    "# size function\n",
    "print(\"No. of elements in the array x,y,z respectively:\")\n",
    "print(x.size)\n",
    "print(y.size)\n",
    "print(z.size)"
   ]
  },
  {
   "cell_type": "code",
   "execution_count": 33,
   "id": "e5f00795",
   "metadata": {},
   "outputs": [
    {
     "name": "stdout",
     "output_type": "stream",
     "text": [
      "No. of rows,cols in the array x,y,z respectively:\n",
      "(1, 4)\n",
      "(2, 4)\n",
      "(1, 3, 4)\n"
     ]
    }
   ],
   "source": [
    "# shape function\n",
    "print(\"No. of rows,cols in the array x,y,z respectively:\")\n",
    "print(x.shape)\n",
    "print(y.shape)\n",
    "print(z.shape)"
   ]
  },
  {
   "cell_type": "code",
   "execution_count": 34,
   "id": "6a330813",
   "metadata": {},
   "outputs": [
    {
     "name": "stdout",
     "output_type": "stream",
     "text": [
      "Type of data present in the array:\n",
      "int32\n",
      "int32\n",
      "float64\n"
     ]
    }
   ],
   "source": [
    "# dtype function\n",
    "print(\"Type of data present in the array:\")\n",
    "print(x.dtype)\n",
    "print(y.dtype)\n",
    "print(z.dtype)"
   ]
  },
  {
   "cell_type": "code",
   "execution_count": 35,
   "id": "44afe4de",
   "metadata": {},
   "outputs": [
    {
     "name": "stdout",
     "output_type": "stream",
     "text": [
      "Transpose of array z:\n",
      "[[[1.1]\n",
      "  [2. ]\n",
      "  [3. ]]\n",
      "\n",
      " [[5.7]\n",
      "  [7.1]\n",
      "  [4. ]]\n",
      "\n",
      " [[7. ]\n",
      "  [8. ]\n",
      "  [9. ]]\n",
      "\n",
      " [[9. ]\n",
      "  [9. ]\n",
      "  [8. ]]]\n"
     ]
    }
   ],
   "source": [
    "# transpose of array\n",
    "print(\"Transpose of array z:\")\n",
    "print(z.transpose())"
   ]
  },
  {
   "cell_type": "code",
   "execution_count": 36,
   "id": "4abf2af6",
   "metadata": {},
   "outputs": [
    {
     "name": "stdout",
     "output_type": "stream",
     "text": [
      "[[ 2  5 10  8]\n",
      " [ 2  5 10  8]] \n",
      "\n",
      "[[ 2  5 10  8  2  5 10  8]] \n",
      "\n",
      "[ 2  5 10  8  2  5 10  8]\n"
     ]
    }
   ],
   "source": [
    "# Concatenate function\n",
    "a=np.concatenate((x,x),axis=0)\n",
    "print(a,\"\\n\")\n",
    "b=np.concatenate((x,x),axis=1)\n",
    "print(b,\"\\n\")\n",
    "c=np.concatenate((x,x),axis=None)\n",
    "print(c)"
   ]
  },
  {
   "cell_type": "code",
   "execution_count": 42,
   "id": "09c06d55",
   "metadata": {},
   "outputs": [
    {
     "name": "stdout",
     "output_type": "stream",
     "text": [
      "[1 2 3 4]\n",
      "[1 -- 3 4]\n"
     ]
    }
   ],
   "source": [
    "# MaskedArray\n",
    "x1=np.ma.arange(1,5)\n",
    "print(x1)\n",
    "x1[1]=np.ma.masked  \n",
    "print(x1)"
   ]
  },
  {
   "cell_type": "code",
   "execution_count": 50,
   "id": "b8d305f7",
   "metadata": {},
   "outputs": [
    {
     "name": "stdout",
     "output_type": "stream",
     "text": [
      "[[ 1  2  3]\n",
      " [ 4  5  6]\n",
      " [ 7  8  9]\n",
      " [11 12 13]\n",
      " [14 15 16]\n",
      " [17 18 19]] \n",
      "\n",
      "[[ 1  2  3 11 12 13]\n",
      " [ 4  5  6 14 15 16]\n",
      " [ 7  8  9 17 18 19]] \n",
      "\n",
      "[ 1  2  3  4  5  6  7  8  9 11 12 13 14 15 16 17 18 19]\n"
     ]
    }
   ],
   "source": [
    "# append array\n",
    "a1=np.arange(1,10).reshape(3,3)\n",
    "a2=np.arange(11,20).reshape(3,3)\n",
    "a3=np.append(a1,a2,axis=0)\n",
    "print(a3,\"\\n\")\n",
    "a4=np.append(a1,a2,axis=1)\n",
    "print(a4,\"\\n\")\n",
    "a5=np.append(a1,a2,axis=None)\n",
    "print(a5)"
   ]
  }
 ],
 "metadata": {
  "kernelspec": {
   "display_name": "Python 3 (ipykernel)",
   "language": "python",
   "name": "python3"
  },
  "language_info": {
   "codemirror_mode": {
    "name": "ipython",
    "version": 3
   },
   "file_extension": ".py",
   "mimetype": "text/x-python",
   "name": "python",
   "nbconvert_exporter": "python",
   "pygments_lexer": "ipython3",
   "version": "3.11.5"
  }
 },
 "nbformat": 4,
 "nbformat_minor": 5
}
