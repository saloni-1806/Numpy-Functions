{
 "cells": [
  {
   "cell_type": "markdown",
   "id": "b23e2d3c",
   "metadata": {},
   "source": [
    "# Functions of Numpy Part-3"
   ]
  },
  {
   "cell_type": "code",
   "execution_count": 18,
   "id": "e5a1df38",
   "metadata": {},
   "outputs": [],
   "source": [
    "import numpy as np  \n",
    " "
   ]
  },
  {
   "cell_type": "code",
   "execution_count": 17,
   "id": "5632d1d3",
   "metadata": {},
   "outputs": [
    {
     "name": "stdout",
     "output_type": "stream",
     "text": [
      "[[0 1]\n",
      " [1 0]] \n",
      "\n"
     ]
    },
    {
     "data": {
      "text/plain": [
       "array([[1, 5],\n",
       "       [2, 6]])"
      ]
     },
     "execution_count": 17,
     "metadata": {},
     "output_type": "execute_result"
    }
   ],
   "source": [
    "# argsort function\n",
    "a=np.array([[1,6],[2,5]])    \n",
    "a1=np.argsort(a,axis=0)  \n",
    "print(a1,\"\\n\")\n",
    "np.take_along_axis(a, a1, axis=0) "
   ]
  },
  {
   "cell_type": "code",
   "execution_count": 21,
   "id": "06000f9d",
   "metadata": {},
   "outputs": [
    {
     "name": "stdout",
     "output_type": "stream",
     "text": [
      "[2. 3.]\n",
      "[1.5 3.5]\n"
     ]
    }
   ],
   "source": [
    "# mean function\n",
    "b1= np.array([[1, 2], [3, 4]])  \n",
    "b2=np.mean(b1,axis=0) \n",
    "b3=np.mean(b1,axis=1)  \n",
    "print(b2) \n",
    "print(b3) "
   ]
  },
  {
   "cell_type": "code",
   "execution_count": 30,
   "id": "2cd03733",
   "metadata": {},
   "outputs": [
    {
     "name": "stdout",
     "output_type": "stream",
     "text": [
      "[[1 1]\n",
      " [2 2]\n",
      " [2 3]\n",
      " [3 3]] \n",
      "\n",
      "[[1 1]\n",
      " [2 3]\n",
      " [2 3]\n",
      " [1 1]\n",
      " [2 2]\n",
      " [3 3]]\n"
     ]
    }
   ],
   "source": [
    "# unique function \n",
    "c1 = np.array([[1, 1],[2,3],[2,3],[1,1],[2,2],[3,3]])  \n",
    "c2=np.unique(c1, axis=0)  \n",
    "c3=np.unique(c1, axis=1)  \n",
    "print(c2,\"\\n\")\n",
    "print(c3)"
   ]
  },
  {
   "cell_type": "code",
   "execution_count": 33,
   "id": "c28cca5a",
   "metadata": {},
   "outputs": [
    {
     "name": "stdout",
     "output_type": "stream",
     "text": [
      "[[11 21]\n",
      " [31 41]] \n",
      "\n",
      "[[11, 21], [31, 41]]\n"
     ]
    }
   ],
   "source": [
    "# tolist function\n",
    "d1 = np.array([[11, 21], [31, 41]])  \n",
    "d2=d1.tolist()\n",
    "print(d1,\"\\n\")\n",
    "print(d2) "
   ]
  },
  {
   "cell_type": "code",
   "execution_count": 34,
   "id": "e4fcbd74",
   "metadata": {},
   "outputs": [
    {
     "name": "stdout",
     "output_type": "stream",
     "text": [
      "72\n"
     ]
    }
   ],
   "source": [
    "# dot operater\n",
    "e1 =np.dot(6,12)  \n",
    "print(e1)  "
   ]
  },
  {
   "cell_type": "code",
   "execution_count": 35,
   "id": "4516ce96",
   "metadata": {},
   "outputs": [
    {
     "name": "stdout",
     "output_type": "stream",
     "text": [
      "Input array: [0.23, 0.09, 1.2, 1.24, 9.99]\n",
      "Output array: [ 1.  1.  2.  2. 10.]\n"
     ]
    }
   ],
   "source": [
    "# ceil function\n",
    "\n",
    "f1 = [0.23, 0.09, 1.2, 1.24, 9.99]  \n",
    "print(\"Input array:\",f1)  \n",
    "f2 = np.ceil(f1)  \n",
    "print(\"Output array:\",f2)  \n",
    "  "
   ]
  },
  {
   "cell_type": "code",
   "execution_count": 36,
   "id": "9b4c0c84",
   "metadata": {},
   "outputs": [
    {
     "name": "stdout",
     "output_type": "stream",
     "text": [
      "Input array: [0.23, 0.09, 1.2, 1.24, 9.99]\n",
      "Output array: [0. 0. 1. 1. 9.]\n"
     ]
    }
   ],
   "source": [
    "# floor function\n",
    "\n",
    "g1 = [0.23, 0.09, 1.2, 1.24, 9.99]  \n",
    "print(\"Input array:\",g1)  \n",
    "g2 = np.floor(g1)  \n",
    "print(\"Output array:\",g2)  \n",
    "  "
   ]
  }
 ],
 "metadata": {
  "kernelspec": {
   "display_name": "Python 3 (ipykernel)",
   "language": "python",
   "name": "python3"
  },
  "language_info": {
   "codemirror_mode": {
    "name": "ipython",
    "version": 3
   },
   "file_extension": ".py",
   "mimetype": "text/x-python",
   "name": "python",
   "nbconvert_exporter": "python",
   "pygments_lexer": "ipython3",
   "version": "3.11.5"
  }
 },
 "nbformat": 4,
 "nbformat_minor": 5
}
