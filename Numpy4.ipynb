{
 "cells": [
  {
   "cell_type": "markdown",
   "id": "10db4a91",
   "metadata": {},
   "source": [
    "# Functions of Numpy Part-4"
   ]
  },
  {
   "cell_type": "code",
   "execution_count": 1,
   "id": "8477165f",
   "metadata": {},
   "outputs": [],
   "source": [
    "import numpy as np"
   ]
  },
  {
   "cell_type": "code",
   "execution_count": 2,
   "id": "d676d322",
   "metadata": {},
   "outputs": [
    {
     "name": "stdout",
     "output_type": "stream",
     "text": [
      "[1, 2, 3, 4, 5] \n",
      "\n",
      "3.0\n"
     ]
    }
   ],
   "source": [
    "# average function\n",
    "a1 = list(range(1,6))  \n",
    "a2 =np.average(a1)  \n",
    "print (a1,\"\\n\") \n",
    "print (a2)"
   ]
  },
  {
   "cell_type": "code",
   "execution_count": 3,
   "id": "d788414b",
   "metadata": {},
   "outputs": [
    {
     "name": "stdout",
     "output_type": "stream",
     "text": [
      "[6 6 6 1 3 2 5 4 4 4]\n"
     ]
    }
   ],
   "source": [
    "# pad function\n",
    "b1 = [1, 3, 2, 5, 4]  \n",
    "b2 = np.pad(b1, (3, 2), 'constant', constant_values=(6, 4))  \n",
    "print (b2)"
   ]
  },
  {
   "cell_type": "code",
   "execution_count": 4,
   "id": "e9b3f437",
   "metadata": {},
   "outputs": [
    {
     "name": "stdout",
     "output_type": "stream",
     "text": [
      "[ 1  3  5 11 35 56]\n"
     ]
    }
   ],
   "source": [
    "# ravel function\n",
    "c1 = np.array([[1, 3, 5], [11, 35, 56]])  \n",
    "c2 =np.ravel(c1) \n",
    "print (c2)"
   ]
  },
  {
   "cell_type": "code",
   "execution_count": 6,
   "id": "d3bb9b25",
   "metadata": {},
   "outputs": [
    {
     "name": "stdout",
     "output_type": "stream",
     "text": [
      "Input array: [0.23, 0.09, 1.2, 1.24, 9.99]\n",
      "Output array: [0. 0. 1. 1. 9.]\n"
     ]
    }
   ],
   "source": [
    "# fix function\n",
    "d1 = [0.23, 0.09, 1.2, 1.24, 9.99]  \n",
    "print(\"Input array:\",d1)  \n",
    "d2 = np.fix(d1)  \n",
    "print(\"Output array:\",d2) \n"
   ]
  },
  {
   "cell_type": "code",
   "execution_count": 8,
   "id": "ceb30396",
   "metadata": {},
   "outputs": [
    {
     "name": "stdout",
     "output_type": "stream",
     "text": [
      "Input array : \n",
      " [0, 0.3, -1]\n",
      "\n",
      "Inverse cos values : \n",
      " [1.57079633 1.26610367 3.14159265]\n"
     ]
    }
   ],
   "source": [
    "# arccos function\n",
    "e1 = [0, 0.3, -1]   \n",
    "print (\"Input array : \\n\", e1)   \n",
    "e2 = np.arccos(e1)   \n",
    "print (\"\\nInverse cos values : \\n\", e2)  "
   ]
  },
  {
   "cell_type": "code",
   "execution_count": 9,
   "id": "df6a7009",
   "metadata": {},
   "outputs": [
    {
     "name": "stdout",
     "output_type": "stream",
     "text": [
      "Input array : \n",
      " [0, 0.3, -1]\n",
      "\n",
      "Inverse Sine values : \n",
      " [ 0.          0.30469265 -1.57079633]\n"
     ]
    }
   ],
   "source": [
    "# arcsin function \n",
    "f1 = [0, 0.3, -1]   \n",
    "print (\"Input array : \\n\", f1)   \n",
    "f2 = np.arcsin(f1)   \n",
    "print (\"\\nInverse Sine values : \\n\", f2)   "
   ]
  },
  {
   "cell_type": "code",
   "execution_count": 10,
   "id": "b5276b33",
   "metadata": {},
   "outputs": [
    {
     "name": "stdout",
     "output_type": "stream",
     "text": [
      "Input array : \n",
      " [0, 0.3, -1]\n",
      "\n",
      "Inverse tan values : \n",
      " [ 0.          0.29145679 -0.78539816]\n"
     ]
    }
   ],
   "source": [
    "# arctan function\n",
    "g1 = [0, 0.3, -1]   \n",
    "print (\"Input array : \\n\", g1)   \n",
    "g2= np.arctan(g1)   \n",
    "print (\"\\nInverse tan values : \\n\", g2)   "
   ]
  },
  {
   "cell_type": "code",
   "execution_count": null,
   "id": "6f8c9193",
   "metadata": {},
   "outputs": [],
   "source": []
  }
 ],
 "metadata": {
  "kernelspec": {
   "display_name": "Python 3 (ipykernel)",
   "language": "python",
   "name": "python3"
  },
  "language_info": {
   "codemirror_mode": {
    "name": "ipython",
    "version": 3
   },
   "file_extension": ".py",
   "mimetype": "text/x-python",
   "name": "python",
   "nbconvert_exporter": "python",
   "pygments_lexer": "ipython3",
   "version": "3.11.5"
  }
 },
 "nbformat": 4,
 "nbformat_minor": 5
}
